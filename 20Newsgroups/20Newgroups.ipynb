{
 "cells": [
  {
   "cell_type": "code",
   "execution_count": 50,
   "metadata": {},
   "outputs": [],
   "source": [
    "from sklearn.datasets import fetch_20newsgroups\n",
    "from sklearn.feature_extraction.text import CountVectorizer\n",
    "from sklearn.feature_extraction.text import TfidfVectorizer\n",
    "from sklearn.feature_extraction.text import TfidfTransformer\n",
    "from sklearn import metrics\n",
    "from sklearn.metrics import classification_report\n",
    "from sklearn.grid_search import GridSearchCV\n",
    "from pprint import pprint\n",
    "from sklearn.cross_validation import train_test_split\n",
    "import xgboost as xgb\n",
    "import numpy as np"
   ]
  },
  {
   "cell_type": "code",
   "execution_count": 51,
   "metadata": {},
   "outputs": [
    {
     "name": "stdout",
     "output_type": "stream",
     "text": [
      "['alt.atheism',\n",
      " 'comp.graphics',\n",
      " 'comp.os.ms-windows.misc',\n",
      " 'comp.sys.ibm.pc.hardware',\n",
      " 'comp.sys.mac.hardware',\n",
      " 'comp.windows.x',\n",
      " 'misc.forsale',\n",
      " 'rec.autos',\n",
      " 'rec.motorcycles',\n",
      " 'rec.sport.baseball',\n",
      " 'rec.sport.hockey',\n",
      " 'sci.crypt',\n",
      " 'sci.electronics',\n",
      " 'sci.med',\n",
      " 'sci.space',\n",
      " 'soc.religion.christian',\n",
      " 'talk.politics.guns',\n",
      " 'talk.politics.mideast',\n",
      " 'talk.politics.misc',\n",
      " 'talk.religion.misc']\n"
     ]
    }
   ],
   "source": [
    "### 数据集载入\n",
    "dataset = fetch_20newsgroups(subset='all', shuffle=True)\n",
    "pprint(dataset.target_names)"
   ]
  },
  {
   "cell_type": "code",
   "execution_count": 52,
   "metadata": {},
   "outputs": [],
   "source": [
    "X_train,X_test,y_train,y_test = train_test_split(dataset.data, dataset.target, test_size = 0.3)\n",
    "train_size = len(X_train)\n",
    "test_size = len(X_test)\n",
    "class_nums = len(dataset.target_names)\n",
    "class_labels = list(range(class_nums))"
   ]
  },
  {
   "cell_type": "code",
   "execution_count": 53,
   "metadata": {},
   "outputs": [],
   "source": [
    "### 词频统计，去除停用词\n",
    "count_vect = CountVectorizer(stop_words = 'english', max_df = 0.9)\n",
    "X_train_counts = count_vect.fit_transform(X_train)\n",
    "X_test_counts = count_vect.transform(X_test)"
   ]
  },
  {
   "cell_type": "code",
   "execution_count": 54,
   "metadata": {},
   "outputs": [],
   "source": [
    "### 得出TF-IDF向量\n",
    "tfidf_transformer = TfidfTransformer()\n",
    "X_train_tfidf = tfidf_transformer.fit_transform(X_train_counts)\n",
    "X_test_tfidf = tfidf_transformer.transform(X_test_counts)"
   ]
  },
  {
   "cell_type": "code",
   "execution_count": 55,
   "metadata": {},
   "outputs": [],
   "source": [
    "count_filter_vec = CountVectorizer(analyzer='word',stop_words='english')\n",
    "### 直接利用TFidfVectorizer进行处理\n",
    "tfidf_filter_vec = TfidfVectorizer(analyzer='word',stop_words='english')\n",
    "\n",
    "#使用带有停用词过滤的CountVectorizer对训练和测试文本分别进行量化处理\n",
    "X_train_counts = count_filter_vec.fit_transform(X_train)\n",
    "X_test_counts  = count_filter_vec.transform(X_test)\n",
    "\n",
    "#使用带有停用词过滤的TfidfVectorizer对训练和测试样本分别进行量化处理\n",
    "X_train_tfidf = tfidf_filter_vec.fit_transform(X_train)\n",
    "X_test_tfidf = tfidf_filter_vec.transform(X_test)"
   ]
  },
  {
   "cell_type": "code",
   "execution_count": 56,
   "metadata": {
    "scrolled": true
   },
   "outputs": [
    {
     "name": "stdout",
     "output_type": "stream",
     "text": [
      "(13192, 149054) (5654, 149054)\n"
     ]
    }
   ],
   "source": [
    "print(X_train_tfidf.shape, X_test_tfidf.shape)"
   ]
  },
  {
   "cell_type": "code",
   "execution_count": 18,
   "metadata": {},
   "outputs": [
    {
     "name": "stderr",
     "output_type": "stream",
     "text": [
      "D:\\Anaconda3\\lib\\site-packages\\sklearn\\decomposition\\online_lda.py:294: DeprecationWarning: n_topics has been renamed to n_components in version 0.19 and will be removed in 0.21\n",
      "  DeprecationWarning)\n"
     ]
    },
    {
     "data": {
      "text/plain": [
       "LatentDirichletAllocation(batch_size=128, doc_topic_prior=None,\n",
       "             evaluate_every=-1, learning_decay=0.7,\n",
       "             learning_method='batch', learning_offset=10.0,\n",
       "             max_doc_update_iter=100, max_iter=100, mean_change_tol=0.001,\n",
       "             n_components=10, n_jobs=1, n_topics=30, perp_tol=0.1,\n",
       "             random_state=None, topic_word_prior=None,\n",
       "             total_samples=1000000.0, verbose=0)"
      ]
     },
     "execution_count": 18,
     "metadata": {},
     "output_type": "execute_result"
    }
   ],
   "source": [
    "'''\n",
    "### LDA降维方法，效果不是很好\n",
    "from sklearn.decomposition import LatentDirichletAllocation\n",
    "#n_topic = class_nums\n",
    "lda = LatentDirichletAllocation(n_topics = 20, \n",
    "                                max_iter= 100,\n",
    "                                learning_method='batch')\n",
    "lda.fit(X_train_counts) \n",
    "X_train_lda = lda.transform(X_train_counts)\n",
    "X_test_lda = lda.transform(X_test_counts)d\n",
    "'''"
   ]
  },
  {
   "cell_type": "code",
   "execution_count": 57,
   "metadata": {},
   "outputs": [],
   "source": [
    "### 模型训练\n",
    "\n",
    "# setup parameters for xgboost\n",
    "params = {}\n",
    "# use softmax multi-class classification\n",
    "params['objective'] = 'multi:softprob'\n",
    "# scale weight of positive examples\n",
    "params['eta'] = 0.1\n",
    "params['max_depth'] = 6\n",
    "# 取0表示打印运行时信息，取1表示以缄默方式运行，不打印运行时信息\n",
    "params['silent'] = 1\n",
    "params['nthread'] = 8\n",
    "params['num_class'] = class_nums\n",
    "\n",
    "xgb_train = xgb.DMatrix(X_train_tfidf, y_train)\n",
    "\n",
    "# 设置boosting迭代计算次数\n",
    "num_rounds = 100\n",
    "\n",
    "clf = xgb.train(params, xgb_train, num_rounds)"
   ]
  },
  {
   "cell_type": "code",
   "execution_count": null,
   "metadata": {},
   "outputs": [],
   "source": [
    "'''\n",
    "### 参数调整\n",
    "\n",
    "model = xgb.XGBClassifier(booster='gbtree',\n",
    "                    objective= 'multi:softprob',\n",
    "                    gamma = 0.1,\n",
    "                    min_child_weight= 1.1,\n",
    "                    max_depth= 5,\n",
    "                    subsample= 0.8,\n",
    "                    colsample_bytree= 0.8,\n",
    "                    tree_method= 'exact',\n",
    "                    learning_rate=0.1,\n",
    "                    n_estimators=100,\n",
    "                    nthread=4,\n",
    "                    scale_pos_weight=1,\n",
    "                    seed=27)\n",
    "param_test1 = {\n",
    "    'max_depth':[3,5,7,9],\n",
    "    'min_child_weight':[1,3,5]\n",
    "}\n",
    "gsearch1 = GridSearchCV(estimator = xgb.XGBClassifier(booster='gbtree',\n",
    "                    objective= 'multi:softmax',\n",
    "                    gamma = 0.1,\n",
    "                    min_child_weight= 1.1,\n",
    "                    max_depth= 5,\n",
    "                    subsample= 0.8,\n",
    "                    colsample_bytree= 0.8,\n",
    "                    tree_method= 'exact',\n",
    "                    learning_rate=0.1,\n",
    "                    n_estimators=100,\n",
    "                    scale_pos_weight=1,\n",
    "                    seed=27),\n",
    "                       param_grid = param_test1, scoring='f1',iid=False, cv=5)\n",
    "gsearch1.fit(X_train_tfidf,train.target)\n",
    "print(gsearch1.grid_scores_, gsearch1.best_params_, gsearch1.best_score_)\n",
    "'''"
   ]
  },
  {
   "cell_type": "code",
   "execution_count": 58,
   "metadata": {},
   "outputs": [],
   "source": [
    "### 在测试集上进行预测\n",
    "xgb_test = xgb.DMatrix(X_test_tfidf, y_test)\n",
    "test_prob = clf.predict(xgb_test).reshape(test_size, class_nums)\n",
    "test_label = np.argmax(test_prob, axis=1)  # return the index of the biggest pro"
   ]
  },
  {
   "cell_type": "code",
   "execution_count": 59,
   "metadata": {},
   "outputs": [
    {
     "name": "stdout",
     "output_type": "stream",
     "text": [
      "                          precision    recall  f1-score   support\n",
      "\n",
      "             alt.atheism     0.8667    0.7992    0.8316       244\n",
      "           comp.graphics     0.7735    0.7603    0.7668       292\n",
      " comp.os.ms-windows.misc     0.7710    0.8445    0.8061       283\n",
      "comp.sys.ibm.pc.hardware     0.7185    0.7233    0.7209       300\n",
      "   comp.sys.mac.hardware     0.8664    0.8421    0.8541       285\n",
      "          comp.windows.x     0.8537    0.8333    0.8434       294\n",
      "            misc.forsale     0.8378    0.8407    0.8393       295\n",
      "               rec.autos     0.8462    0.8490    0.8476       298\n",
      "         rec.motorcycles     0.9072    0.8919    0.8995       296\n",
      "      rec.sport.baseball     0.9076    0.9016    0.9046       305\n",
      "        rec.sport.hockey     0.9357    0.9193    0.9274       285\n",
      "               sci.crypt     0.9603    0.9091    0.9340       319\n",
      "         sci.electronics     0.5974    0.7801    0.6766       291\n",
      "                 sci.med     0.8694    0.9101    0.8893       278\n",
      "               sci.space     0.8914    0.8856    0.8885       306\n",
      "  soc.religion.christian     0.8690    0.8947    0.8817       304\n",
      "      talk.politics.guns     0.8453    0.8577    0.8514       274\n",
      "   talk.politics.mideast     0.9481    0.9412    0.9446       272\n",
      "      talk.politics.misc     0.8400    0.7210    0.7760       233\n",
      "      talk.religion.misc     0.8176    0.6500    0.7242       200\n",
      "\n",
      "             avg / total     0.8468    0.8422    0.8431      5654\n",
      "\n"
     ]
    }
   ],
   "source": [
    "### 输入各个类别的 precision, recall, f1-score\n",
    "#names = ['class ' + str(i) for i in class_labels]\n",
    "print(classification_report(y_test, test_label, target_names= dataset.target_names, digits = 4))"
   ]
  },
  {
   "cell_type": "code",
   "execution_count": null,
   "metadata": {},
   "outputs": [],
   "source": []
  }
 ],
 "metadata": {
  "kernelspec": {
   "display_name": "Python 3",
   "language": "python",
   "name": "python3"
  },
  "language_info": {
   "codemirror_mode": {
    "name": "ipython",
    "version": 3
   },
   "file_extension": ".py",
   "mimetype": "text/x-python",
   "name": "python",
   "nbconvert_exporter": "python",
   "pygments_lexer": "ipython3",
   "version": "3.6.5"
  }
 },
 "nbformat": 4,
 "nbformat_minor": 2
}
